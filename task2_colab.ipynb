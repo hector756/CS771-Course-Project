{
  "nbformat": 4,
  "nbformat_minor": 0,
  "metadata": {
    "colab": {
      "provenance": [],
      "gpuType": "T4",
      "collapsed_sections": [
        "O9QHAHAhRISm",
        "HbYKB8aERSQi",
        "fAaAkTm-Rmi7"
      ],
      "include_colab_link": true
    },
    "kernelspec": {
      "name": "python3",
      "display_name": "Python 3"
    },
    "language_info": {
      "name": "python"
    },
    "accelerator": "GPU"
  },
  "cells": [
    {
      "cell_type": "markdown",
      "metadata": {
        "id": "view-in-github",
        "colab_type": "text"
      },
      "source": [
        "<a href=\"https://colab.research.google.com/github/MegaVictinixyz/CS771-Course-Project/blob/main/task2_colab.ipynb\" target=\"_parent\"><img src=\"https://colab.research.google.com/assets/colab-badge.svg\" alt=\"Open In Colab\"/></a>"
      ]
    },
    {
      "cell_type": "markdown",
      "source": [
        "# ***1. Import data and libraries***"
      ],
      "metadata": {
        "id": "O9QHAHAhRISm"
      }
    },
    {
      "cell_type": "code",
      "execution_count": null,
      "metadata": {
        "colab": {
          "base_uri": "https://localhost:8080/"
        },
        "id": "mOrwiQ4ChaND",
        "outputId": "0a170d36-b424-47dc-9613-ebdb842926ce"
      },
      "outputs": [
        {
          "output_type": "stream",
          "name": "stdout",
          "text": [
            "Downloading...\n",
            "From (original): https://drive.google.com/uc?id=16hB6UKRYC45BzAby92-eG19fLZ-rTqlA\n",
            "From (redirected): https://drive.google.com/uc?id=16hB6UKRYC45BzAby92-eG19fLZ-rTqlA&confirm=t&uuid=b16379f9-a8e4-4b90-81bf-7374f2e018b7\n",
            "To: /content/dataset.zip\n",
            "100% 301M/301M [00:09<00:00, 32.6MB/s]\n",
            "\n",
            "7-Zip [64] 16.02 : Copyright (c) 1999-2016 Igor Pavlov : 2016-05-21\n",
            "p7zip Version 16.02 (locale=en_US.UTF-8,Utf16=on,HugeFiles=on,64 bits,2 CPUs Intel(R) Xeon(R) CPU @ 2.00GHz (50653),ASM,AES-NI)\n",
            "\n",
            "Scanning the drive for archives:\n",
            "  0M Scan\b\b\b\b\b\b\b\b\b         \b\b\b\b\b\b\b\b\b1 file, 301067282 bytes (288 MiB)\n",
            "\n",
            "Extracting archive: dataset.zip\n",
            "--\n",
            "Path = dataset.zip\n",
            "Type = zip\n",
            "Physical Size = 301067282\n",
            "\n",
            "  0%\b\b\b\b    \b\b\b\b  1% 15 - dataset/part_two_dataset/train_data/6_train_data.tar.pth\b\b\b\b\b\b\b\b\b\b\b\b\b\b\b\b\b\b\b\b\b\b\b\b\b\b\b\b\b\b\b\b\b\b\b\b\b\b\b\b\b\b\b\b\b\b\b\b\b\b\b\b\b\b\b\b\b\b\b\b\b\b\b\b\b\b                                                                  \b\b\b\b\b\b\b\b\b\b\b\b\b\b\b\b\b\b\b\b\b\b\b\b\b\b\b\b\b\b\b\b\b\b\b\b\b\b\b\b\b\b\b\b\b\b\b\b\b\b\b\b\b\b\b\b\b\b\b\b\b\b\b\b\b\b  4% 16 - dataset/part_two_dataset/train_data/8_train_data.tar.pth\b\b\b\b\b\b\b\b\b\b\b\b\b\b\b\b\b\b\b\b\b\b\b\b\b\b\b\b\b\b\b\b\b\b\b\b\b\b\b\b\b\b\b\b\b\b\b\b\b\b\b\b\b\b\b\b\b\b\b\b\b\b\b\b\b\b                                                                  \b\b\b\b\b\b\b\b\b\b\b\b\b\b\b\b\b\b\b\b\b\b\b\b\b\b\b\b\b\b\b\b\b\b\b\b\b\b\b\b\b\b\b\b\b\b\b\b\b\b\b\b\b\b\b\b\b\b\b\b\b\b\b\b\b\b  5% 17 - dataset/part_two_dataset/train_data/5_train_data.tar.pth\b\b\b\b\b\b\b\b\b\b\b\b\b\b\b\b\b\b\b\b\b\b\b\b\b\b\b\b\b\b\b\b\b\b\b\b\b\b\b\b\b\b\b\b\b\b\b\b\b\b\b\b\b\b\b\b\b\b\b\b\b\b\b\b\b\b                                                                  \b\b\b\b\b\b\b\b\b\b\b\b\b\b\b\b\b\b\b\b\b\b\b\b\b\b\b\b\b\b\b\b\b\b\b\b\b\b\b\b\b\b\b\b\b\b\b\b\b\b\b\b\b\b\b\b\b\b\b\b\b\b\b\b\b\b  7% 17 - dataset/part_two_dataset/train_data/5_train_data.tar.pth\b\b\b\b\b\b\b\b\b\b\b\b\b\b\b\b\b\b\b\b\b\b\b\b\b\b\b\b\b\b\b\b\b\b\b\b\b\b\b\b\b\b\b\b\b\b\b\b\b\b\b\b\b\b\b\b\b\b\b\b\b\b\b\b\b\b                                                                  \b\b\b\b\b\b\b\b\b\b\b\b\b\b\b\b\b\b\b\b\b\b\b\b\b\b\b\b\b\b\b\b\b\b\b\b\b\b\b\b\b\b\b\b\b\b\b\b\b\b\b\b\b\b\b\b\b\b\b\b\b\b\b\b\b\b  8% 17 - dataset/part_two_dataset/train_data/5_train_data.tar.pth\b\b\b\b\b\b\b\b\b\b\b\b\b\b\b\b\b\b\b\b\b\b\b\b\b\b\b\b\b\b\b\b\b\b\b\b\b\b\b\b\b\b\b\b\b\b\b\b\b\b\b\b\b\b\b\b\b\b\b\b\b\b\b\b\b\b                                                                  \b\b\b\b\b\b\b\b\b\b\b\b\b\b\b\b\b\b\b\b\b\b\b\b\b\b\b\b\b\b\b\b\b\b\b\b\b\b\b\b\b\b\b\b\b\b\b\b\b\b\b\b\b\b\b\b\b\b\b\b\b\b\b\b\b\b 10% 18 - dataset/part_two_dataset/train_data/3_train_data.tar.pth\b\b\b\b\b\b\b\b\b\b\b\b\b\b\b\b\b\b\b\b\b\b\b\b\b\b\b\b\b\b\b\b\b\b\b\b\b\b\b\b\b\b\b\b\b\b\b\b\b\b\b\b\b\b\b\b\b\b\b\b\b\b\b\b\b\b                                                                  \b\b\b\b\b\b\b\b\b\b\b\b\b\b\b\b\b\b\b\b\b\b\b\b\b\b\b\b\b\b\b\b\b\b\b\b\b\b\b\b\b\b\b\b\b\b\b\b\b\b\b\b\b\b\b\b\b\b\b\b\b\b\b\b\b\b 11% 19 - dataset/part_two_dataset/train_data/10_train_data.tar.pth\b\b\b\b\b\b\b\b\b\b\b\b\b\b\b\b\b\b\b\b\b\b\b\b\b\b\b\b\b\b\b\b\b\b\b\b\b\b\b\b\b\b\b\b\b\b\b\b\b\b\b\b\b\b\b\b\b\b\b\b\b\b\b\b\b\b\b                                                                   \b\b\b\b\b\b\b\b\b\b\b\b\b\b\b\b\b\b\b\b\b\b\b\b\b\b\b\b\b\b\b\b\b\b\b\b\b\b\b\b\b\b\b\b\b\b\b\b\b\b\b\b\b\b\b\b\b\b\b\b\b\b\b\b\b\b\b 13% 20 - dataset/part_two_dataset/train_data/1_train_data.tar.pth\b\b\b\b\b\b\b\b\b\b\b\b\b\b\b\b\b\b\b\b\b\b\b\b\b\b\b\b\b\b\b\b\b\b\b\b\b\b\b\b\b\b\b\b\b\b\b\b\b\b\b\b\b\b\b\b\b\b\b\b\b\b\b\b\b\b                                                                  \b\b\b\b\b\b\b\b\b\b\b\b\b\b\b\b\b\b\b\b\b\b\b\b\b\b\b\b\b\b\b\b\b\b\b\b\b\b\b\b\b\b\b\b\b\b\b\b\b\b\b\b\b\b\b\b\b\b\b\b\b\b\b\b\b\b 15% 20 - dataset/part_two_dataset/train_data/1_train_data.tar.pth\b\b\b\b\b\b\b\b\b\b\b\b\b\b\b\b\b\b\b\b\b\b\b\b\b\b\b\b\b\b\b\b\b\b\b\b\b\b\b\b\b\b\b\b\b\b\b\b\b\b\b\b\b\b\b\b\b\b\b\b\b\b\b\b\b\b                                                                  \b\b\b\b\b\b\b\b\b\b\b\b\b\b\b\b\b\b\b\b\b\b\b\b\b\b\b\b\b\b\b\b\b\b\b\b\b\b\b\b\b\b\b\b\b\b\b\b\b\b\b\b\b\b\b\b\b\b\b\b\b\b\b\b\b\b 16% 21 - dataset/part_two_dataset/train_data/2_train_data.tar.pth\b\b\b\b\b\b\b\b\b\b\b\b\b\b\b\b\b\b\b\b\b\b\b\b\b\b\b\b\b\b\b\b\b\b\b\b\b\b\b\b\b\b\b\b\b\b\b\b\b\b\b\b\b\b\b\b\b\b\b\b\b\b\b\b\b\b                                                                  \b\b\b\b\b\b\b\b\b\b\b\b\b\b\b\b\b\b\b\b\b\b\b\b\b\b\b\b\b\b\b\b\b\b\b\b\b\b\b\b\b\b\b\b\b\b\b\b\b\b\b\b\b\b\b\b\b\b\b\b\b\b\b\b\b\b 17% 21 - dataset/part_two_dataset/train_data/2_train_data.tar.pth\b\b\b\b\b\b\b\b\b\b\b\b\b\b\b\b\b\b\b\b\b\b\b\b\b\b\b\b\b\b\b\b\b\b\b\b\b\b\b\b\b\b\b\b\b\b\b\b\b\b\b\b\b\b\b\b\b\b\b\b\b\b\b\b\b\b                                                                  \b\b\b\b\b\b\b\b\b\b\b\b\b\b\b\b\b\b\b\b\b\b\b\b\b\b\b\b\b\b\b\b\b\b\b\b\b\b\b\b\b\b\b\b\b\b\b\b\b\b\b\b\b\b\b\b\b\b\b\b\b\b\b\b\b\b 18% 22 - dataset/part_two_dataset/train_data/9_train_data.tar.pth\b\b\b\b\b\b\b\b\b\b\b\b\b\b\b\b\b\b\b\b\b\b\b\b\b\b\b\b\b\b\b\b\b\b\b\b\b\b\b\b\b\b\b\b\b\b\b\b\b\b\b\b\b\b\b\b\b\b\b\b\b\b\b\b\b\b                                                                  \b\b\b\b\b\b\b\b\b\b\b\b\b\b\b\b\b\b\b\b\b\b\b\b\b\b\b\b\b\b\b\b\b\b\b\b\b\b\b\b\b\b\b\b\b\b\b\b\b\b\b\b\b\b\b\b\b\b\b\b\b\b\b\b\b\b 19% 22 - dataset/part_two_dataset/train_data/9_train_data.tar.pth\b\b\b\b\b\b\b\b\b\b\b\b\b\b\b\b\b\b\b\b\b\b\b\b\b\b\b\b\b\b\b\b\b\b\b\b\b\b\b\b\b\b\b\b\b\b\b\b\b\b\b\b\b\b\b\b\b\b\b\b\b\b\b\b\b\b                                                                  \b\b\b\b\b\b\b\b\b\b\b\b\b\b\b\b\b\b\b\b\b\b\b\b\b\b\b\b\b\b\b\b\b\b\b\b\b\b\b\b\b\b\b\b\b\b\b\b\b\b\b\b\b\b\b\b\b\b\b\b\b\b\b\b\b\b 20% 23 - dataset/part_two_dataset/train_data/4_train_data.tar.pth\b\b\b\b\b\b\b\b\b\b\b\b\b\b\b\b\b\b\b\b\b\b\b\b\b\b\b\b\b\b\b\b\b\b\b\b\b\b\b\b\b\b\b\b\b\b\b\b\b\b\b\b\b\b\b\b\b\b\b\b\b\b\b\b\b\b                                                                  \b\b\b\b\b\b\b\b\b\b\b\b\b\b\b\b\b\b\b\b\b\b\b\b\b\b\b\b\b\b\b\b\b\b\b\b\b\b\b\b\b\b\b\b\b\b\b\b\b\b\b\b\b\b\b\b\b\b\b\b\b\b\b\b\b\b 21% 23 - dataset/part_two_dataset/train_data/4_train_data.tar.pth\b\b\b\b\b\b\b\b\b\b\b\b\b\b\b\b\b\b\b\b\b\b\b\b\b\b\b\b\b\b\b\b\b\b\b\b\b\b\b\b\b\b\b\b\b\b\b\b\b\b\b\b\b\b\b\b\b\b\b\b\b\b\b\b\b\b                                                                  \b\b\b\b\b\b\b\b\b\b\b\b\b\b\b\b\b\b\b\b\b\b\b\b\b\b\b\b\b\b\b\b\b\b\b\b\b\b\b\b\b\b\b\b\b\b\b\b\b\b\b\b\b\b\b\b\b\b\b\b\b\b\b\b\b\b 22% 23 - dataset/part_two_dataset/train_data/4_train_data.tar.pth\b\b\b\b\b\b\b\b\b\b\b\b\b\b\b\b\b\b\b\b\b\b\b\b\b\b\b\b\b\b\b\b\b\b\b\b\b\b\b\b\b\b\b\b\b\b\b\b\b\b\b\b\b\b\b\b\b\b\b\b\b\b\b\b\b\b                                                                  \b\b\b\b\b\b\b\b\b\b\b\b\b\b\b\b\b\b\b\b\b\b\b\b\b\b\b\b\b\b\b\b\b\b\b\b\b\b\b\b\b\b\b\b\b\b\b\b\b\b\b\b\b\b\b\b\b\b\b\b\b\b\b\b\b\b 23% 23 - dataset/part_two_dataset/train_data/4_train_data.tar.pth\b\b\b\b\b\b\b\b\b\b\b\b\b\b\b\b\b\b\b\b\b\b\b\b\b\b\b\b\b\b\b\b\b\b\b\b\b\b\b\b\b\b\b\b\b\b\b\b\b\b\b\b\b\b\b\b\b\b\b\b\b\b\b\b\b\b                                                                  \b\b\b\b\b\b\b\b\b\b\b\b\b\b\b\b\b\b\b\b\b\b\b\b\b\b\b\b\b\b\b\b\b\b\b\b\b\b\b\b\b\b\b\b\b\b\b\b\b\b\b\b\b\b\b\b\b\b\b\b\b\b\b\b\b\b 24% 24 - dataset/part_two_dataset/train_data/7_train_data.tar.pth\b\b\b\b\b\b\b\b\b\b\b\b\b\b\b\b\b\b\b\b\b\b\b\b\b\b\b\b\b\b\b\b\b\b\b\b\b\b\b\b\b\b\b\b\b\b\b\b\b\b\b\b\b\b\b\b\b\b\b\b\b\b\b\b\b\b                                                                  \b\b\b\b\b\b\b\b\b\b\b\b\b\b\b\b\b\b\b\b\b\b\b\b\b\b\b\b\b\b\b\b\b\b\b\b\b\b\b\b\b\b\b\b\b\b\b\b\b\b\b\b\b\b\b\b\b\b\b\b\b\b\b\b\b\b 25% 25 - dataset/part_two_dataset/eval_data/8_eval_data.tar.pth\b\b\b\b\b\b\b\b\b\b\b\b\b\b\b\b\b\b\b\b\b\b\b\b\b\b\b\b\b\b\b\b\b\b\b\b\b\b\b\b\b\b\b\b\b\b\b\b\b\b\b\b\b\b\b\b\b\b\b\b\b\b\b\b                                                                \b\b\b\b\b\b\b\b\b\b\b\b\b\b\b\b\b\b\b\b\b\b\b\b\b\b\b\b\b\b\b\b\b\b\b\b\b\b\b\b\b\b\b\b\b\b\b\b\b\b\b\b\b\b\b\b\b\b\b\b\b\b\b\b 27% 25 - dataset/part_two_dataset/eval_data/8_eval_data.tar.pth\b\b\b\b\b\b\b\b\b\b\b\b\b\b\b\b\b\b\b\b\b\b\b\b\b\b\b\b\b\b\b\b\b\b\b\b\b\b\b\b\b\b\b\b\b\b\b\b\b\b\b\b\b\b\b\b\b\b\b\b\b\b\b\b                                                                \b\b\b\b\b\b\b\b\b\b\b\b\b\b\b\b\b\b\b\b\b\b\b\b\b\b\b\b\b\b\b\b\b\b\b\b\b\b\b\b\b\b\b\b\b\b\b\b\b\b\b\b\b\b\b\b\b\b\b\b\b\b\b\b 29% 26 - dataset/part_two_dataset/eval_data/9_eval_data.tar.pth\b\b\b\b\b\b\b\b\b\b\b\b\b\b\b\b\b\b\b\b\b\b\b\b\b\b\b\b\b\b\b\b\b\b\b\b\b\b\b\b\b\b\b\b\b\b\b\b\b\b\b\b\b\b\b\b\b\b\b\b\b\b\b\b                                                                \b\b\b\b\b\b\b\b\b\b\b\b\b\b\b\b\b\b\b\b\b\b\b\b\b\b\b\b\b\b\b\b\b\b\b\b\b\b\b\b\b\b\b\b\b\b\b\b\b\b\b\b\b\b\b\b\b\b\b\b\b\b\b\b 31% 27 - dataset/part_two_dataset/eval_data/10_eval_data.tar.pth\b\b\b\b\b\b\b\b\b\b\b\b\b\b\b\b\b\b\b\b\b\b\b\b\b\b\b\b\b\b\b\b\b\b\b\b\b\b\b\b\b\b\b\b\b\b\b\b\b\b\b\b\b\b\b\b\b\b\b\b\b\b\b\b\b                                                                 \b\b\b\b\b\b\b\b\b\b\b\b\b\b\b\b\b\b\b\b\b\b\b\b\b\b\b\b\b\b\b\b\b\b\b\b\b\b\b\b\b\b\b\b\b\b\b\b\b\b\b\b\b\b\b\b\b\b\b\b\b\b\b\b\b 32% 27 - dataset/part_two_dataset/eval_data/10_eval_data.tar.pth\b\b\b\b\b\b\b\b\b\b\b\b\b\b\b\b\b\b\b\b\b\b\b\b\b\b\b\b\b\b\b\b\b\b\b\b\b\b\b\b\b\b\b\b\b\b\b\b\b\b\b\b\b\b\b\b\b\b\b\b\b\b\b\b\b                                                                 \b\b\b\b\b\b\b\b\b\b\b\b\b\b\b\b\b\b\b\b\b\b\b\b\b\b\b\b\b\b\b\b\b\b\b\b\b\b\b\b\b\b\b\b\b\b\b\b\b\b\b\b\b\b\b\b\b\b\b\b\b\b\b\b\b 34% 28 - dataset/part_two_dataset/eval_data/5_eval_data.tar.pth\b\b\b\b\b\b\b\b\b\b\b\b\b\b\b\b\b\b\b\b\b\b\b\b\b\b\b\b\b\b\b\b\b\b\b\b\b\b\b\b\b\b\b\b\b\b\b\b\b\b\b\b\b\b\b\b\b\b\b\b\b\b\b\b                                                                \b\b\b\b\b\b\b\b\b\b\b\b\b\b\b\b\b\b\b\b\b\b\b\b\b\b\b\b\b\b\b\b\b\b\b\b\b\b\b\b\b\b\b\b\b\b\b\b\b\b\b\b\b\b\b\b\b\b\b\b\b\b\b\b 35% 28 - dataset/part_two_dataset/eval_data/5_eval_data.tar.pth\b\b\b\b\b\b\b\b\b\b\b\b\b\b\b\b\b\b\b\b\b\b\b\b\b\b\b\b\b\b\b\b\b\b\b\b\b\b\b\b\b\b\b\b\b\b\b\b\b\b\b\b\b\b\b\b\b\b\b\b\b\b\b\b                                                                \b\b\b\b\b\b\b\b\b\b\b\b\b\b\b\b\b\b\b\b\b\b\b\b\b\b\b\b\b\b\b\b\b\b\b\b\b\b\b\b\b\b\b\b\b\b\b\b\b\b\b\b\b\b\b\b\b\b\b\b\b\b\b\b 37% 29 - dataset/part_two_dataset/eval_data/4_eval_data.tar.pth\b\b\b\b\b\b\b\b\b\b\b\b\b\b\b\b\b\b\b\b\b\b\b\b\b\b\b\b\b\b\b\b\b\b\b\b\b\b\b\b\b\b\b\b\b\b\b\b\b\b\b\b\b\b\b\b\b\b\b\b\b\b\b\b                                                                \b\b\b\b\b\b\b\b\b\b\b\b\b\b\b\b\b\b\b\b\b\b\b\b\b\b\b\b\b\b\b\b\b\b\b\b\b\b\b\b\b\b\b\b\b\b\b\b\b\b\b\b\b\b\b\b\b\b\b\b\b\b\b\b 39% 30 - dataset/part_two_dataset/eval_data/1_eval_data.tar.pth\b\b\b\b\b\b\b\b\b\b\b\b\b\b\b\b\b\b\b\b\b\b\b\b\b\b\b\b\b\b\b\b\b\b\b\b\b\b\b\b\b\b\b\b\b\b\b\b\b\b\b\b\b\b\b\b\b\b\b\b\b\b\b\b                                                                \b\b\b\b\b\b\b\b\b\b\b\b\b\b\b\b\b\b\b\b\b\b\b\b\b\b\b\b\b\b\b\b\b\b\b\b\b\b\b\b\b\b\b\b\b\b\b\b\b\b\b\b\b\b\b\b\b\b\b\b\b\b\b\b 40% 31 - dataset/part_two_dataset/eval_data/7_eval_data.tar.pth\b\b\b\b\b\b\b\b\b\b\b\b\b\b\b\b\b\b\b\b\b\b\b\b\b\b\b\b\b\b\b\b\b\b\b\b\b\b\b\b\b\b\b\b\b\b\b\b\b\b\b\b\b\b\b\b\b\b\b\b\b\b\b\b                                                                \b\b\b\b\b\b\b\b\b\b\b\b\b\b\b\b\b\b\b\b\b\b\b\b\b\b\b\b\b\b\b\b\b\b\b\b\b\b\b\b\b\b\b\b\b\b\b\b\b\b\b\b\b\b\b\b\b\b\b\b\b\b\b\b 42% 31 - dataset/part_two_dataset/eval_data/7_eval_data.tar.pth\b\b\b\b\b\b\b\b\b\b\b\b\b\b\b\b\b\b\b\b\b\b\b\b\b\b\b\b\b\b\b\b\b\b\b\b\b\b\b\b\b\b\b\b\b\b\b\b\b\b\b\b\b\b\b\b\b\b\b\b\b\b\b\b                                                                \b\b\b\b\b\b\b\b\b\b\b\b\b\b\b\b\b\b\b\b\b\b\b\b\b\b\b\b\b\b\b\b\b\b\b\b\b\b\b\b\b\b\b\b\b\b\b\b\b\b\b\b\b\b\b\b\b\b\b\b\b\b\b\b 44% 32 - dataset/part_two_dataset/eval_data/2_eval_data.tar.pth\b\b\b\b\b\b\b\b\b\b\b\b\b\b\b\b\b\b\b\b\b\b\b\b\b\b\b\b\b\b\b\b\b\b\b\b\b\b\b\b\b\b\b\b\b\b\b\b\b\b\b\b\b\b\b\b\b\b\b\b\b\b\b\b                                                                \b\b\b\b\b\b\b\b\b\b\b\b\b\b\b\b\b\b\b\b\b\b\b\b\b\b\b\b\b\b\b\b\b\b\b\b\b\b\b\b\b\b\b\b\b\b\b\b\b\b\b\b\b\b\b\b\b\b\b\b\b\b\b\b 45% 33 - dataset/part_two_dataset/eval_data/6_eval_data.tar.pth\b\b\b\b\b\b\b\b\b\b\b\b\b\b\b\b\b\b\b\b\b\b\b\b\b\b\b\b\b\b\b\b\b\b\b\b\b\b\b\b\b\b\b\b\b\b\b\b\b\b\b\b\b\b\b\b\b\b\b\b\b\b\b\b                                                                \b\b\b\b\b\b\b\b\b\b\b\b\b\b\b\b\b\b\b\b\b\b\b\b\b\b\b\b\b\b\b\b\b\b\b\b\b\b\b\b\b\b\b\b\b\b\b\b\b\b\b\b\b\b\b\b\b\b\b\b\b\b\b\b 47% 33 - dataset/part_two_dataset/eval_data/6_eval_data.tar.pth\b\b\b\b\b\b\b\b\b\b\b\b\b\b\b\b\b\b\b\b\b\b\b\b\b\b\b\b\b\b\b\b\b\b\b\b\b\b\b\b\b\b\b\b\b\b\b\b\b\b\b\b\b\b\b\b\b\b\b\b\b\b\b\b                                                                \b\b\b\b\b\b\b\b\b\b\b\b\b\b\b\b\b\b\b\b\b\b\b\b\b\b\b\b\b\b\b\b\b\b\b\b\b\b\b\b\b\b\b\b\b\b\b\b\b\b\b\b\b\b\b\b\b\b\b\b\b\b\b\b 49% 34 - dataset/part_two_dataset/eval_data/3_eval_data.tar.pth\b\b\b\b\b\b\b\b\b\b\b\b\b\b\b\b\b\b\b\b\b\b\b\b\b\b\b\b\b\b\b\b\b\b\b\b\b\b\b\b\b\b\b\b\b\b\b\b\b\b\b\b\b\b\b\b\b\b\b\b\b\b\b\b                                                                \b\b\b\b\b\b\b\b\b\b\b\b\b\b\b\b\b\b\b\b\b\b\b\b\b\b\b\b\b\b\b\b\b\b\b\b\b\b\b\b\b\b\b\b\b\b\b\b\b\b\b\b\b\b\b\b\b\b\b\b\b\b\b\b 51% 35 - dataset/part_one_dataset/train_data/6_train_data.tar.pth\b\b\b\b\b\b\b\b\b\b\b\b\b\b\b\b\b\b\b\b\b\b\b\b\b\b\b\b\b\b\b\b\b\b\b\b\b\b\b\b\b\b\b\b\b\b\b\b\b\b\b\b\b\b\b\b\b\b\b\b\b\b\b\b\b\b                                                                  \b\b\b\b\b\b\b\b\b\b\b\b\b\b\b\b\b\b\b\b\b\b\b\b\b\b\b\b\b\b\b\b\b\b\b\b\b\b\b\b\b\b\b\b\b\b\b\b\b\b\b\b\b\b\b\b\b\b\b\b\b\b\b\b\b\b 52% 35 - dataset/part_one_dataset/train_data/6_train_data.tar.pth\b\b\b\b\b\b\b\b\b\b\b\b\b\b\b\b\b\b\b\b\b\b\b\b\b\b\b\b\b\b\b\b\b\b\b\b\b\b\b\b\b\b\b\b\b\b\b\b\b\b\b\b\b\b\b\b\b\b\b\b\b\b\b\b\b\b                                                                  \b\b\b\b\b\b\b\b\b\b\b\b\b\b\b\b\b\b\b\b\b\b\b\b\b\b\b\b\b\b\b\b\b\b\b\b\b\b\b\b\b\b\b\b\b\b\b\b\b\b\b\b\b\b\b\b\b\b\b\b\b\b\b\b\b\b 54% 36 - dataset/part_one_dataset/train_data/8_train_data.tar.pth\b\b\b\b\b\b\b\b\b\b\b\b\b\b\b\b\b\b\b\b\b\b\b\b\b\b\b\b\b\b\b\b\b\b\b\b\b\b\b\b\b\b\b\b\b\b\b\b\b\b\b\b\b\b\b\b\b\b\b\b\b\b\b\b\b\b                                                                  \b\b\b\b\b\b\b\b\b\b\b\b\b\b\b\b\b\b\b\b\b\b\b\b\b\b\b\b\b\b\b\b\b\b\b\b\b\b\b\b\b\b\b\b\b\b\b\b\b\b\b\b\b\b\b\b\b\b\b\b\b\b\b\b\b\b 57% 37 - dataset/part_one_dataset/train_data/5_train_data.tar.pth\b\b\b\b\b\b\b\b\b\b\b\b\b\b\b\b\b\b\b\b\b\b\b\b\b\b\b\b\b\b\b\b\b\b\b\b\b\b\b\b\b\b\b\b\b\b\b\b\b\b\b\b\b\b\b\b\b\b\b\b\b\b\b\b\b\b                                                                  \b\b\b\b\b\b\b\b\b\b\b\b\b\b\b\b\b\b\b\b\b\b\b\b\b\b\b\b\b\b\b\b\b\b\b\b\b\b\b\b\b\b\b\b\b\b\b\b\b\b\b\b\b\b\b\b\b\b\b\b\b\b\b\b\b\b 61% 39 - dataset/part_one_dataset/train_data/10_train_data.tar.pth\b\b\b\b\b\b\b\b\b\b\b\b\b\b\b\b\b\b\b\b\b\b\b\b\b\b\b\b\b\b\b\b\b\b\b\b\b\b\b\b\b\b\b\b\b\b\b\b\b\b\b\b\b\b\b\b\b\b\b\b\b\b\b\b\b\b\b                                                                   \b\b\b\b\b\b\b\b\b\b\b\b\b\b\b\b\b\b\b\b\b\b\b\b\b\b\b\b\b\b\b\b\b\b\b\b\b\b\b\b\b\b\b\b\b\b\b\b\b\b\b\b\b\b\b\b\b\b\b\b\b\b\b\b\b\b\b 64% 40 - dataset/part_one_dataset/train_data/1_train_data.tar.pth\b\b\b\b\b\b\b\b\b\b\b\b\b\b\b\b\b\b\b\b\b\b\b\b\b\b\b\b\b\b\b\b\b\b\b\b\b\b\b\b\b\b\b\b\b\b\b\b\b\b\b\b\b\b\b\b\b\b\b\b\b\b\b\b\b\b                                                                  \b\b\b\b\b\b\b\b\b\b\b\b\b\b\b\b\b\b\b\b\b\b\b\b\b\b\b\b\b\b\b\b\b\b\b\b\b\b\b\b\b\b\b\b\b\b\b\b\b\b\b\b\b\b\b\b\b\b\b\b\b\b\b\b\b\b 68% 42 - dataset/part_one_dataset/train_data/9_train_data.tar.pth\b\b\b\b\b\b\b\b\b\b\b\b\b\b\b\b\b\b\b\b\b\b\b\b\b\b\b\b\b\b\b\b\b\b\b\b\b\b\b\b\b\b\b\b\b\b\b\b\b\b\b\b\b\b\b\b\b\b\b\b\b\b\b\b\b\b                                                                  \b\b\b\b\b\b\b\b\b\b\b\b\b\b\b\b\b\b\b\b\b\b\b\b\b\b\b\b\b\b\b\b\b\b\b\b\b\b\b\b\b\b\b\b\b\b\b\b\b\b\b\b\b\b\b\b\b\b\b\b\b\b\b\b\b\b 72% 43 - dataset/part_one_dataset/train_data/4_train_data.tar.pth\b\b\b\b\b\b\b\b\b\b\b\b\b\b\b\b\b\b\b\b\b\b\b\b\b\b\b\b\b\b\b\b\b\b\b\b\b\b\b\b\b\b\b\b\b\b\b\b\b\b\b\b\b\b\b\b\b\b\b\b\b\b\b\b\b\b                                                                  \b\b\b\b\b\b\b\b\b\b\b\b\b\b\b\b\b\b\b\b\b\b\b\b\b\b\b\b\b\b\b\b\b\b\b\b\b\b\b\b\b\b\b\b\b\b\b\b\b\b\b\b\b\b\b\b\b\b\b\b\b\b\b\b\b\b 76% 45 - dataset/part_one_dataset/eval_data/8_eval_data.tar.pth\b\b\b\b\b\b\b\b\b\b\b\b\b\b\b\b\b\b\b\b\b\b\b\b\b\b\b\b\b\b\b\b\b\b\b\b\b\b\b\b\b\b\b\b\b\b\b\b\b\b\b\b\b\b\b\b\b\b\b\b\b\b\b\b                                                                \b\b\b\b\b\b\b\b\b\b\b\b\b\b\b\b\b\b\b\b\b\b\b\b\b\b\b\b\b\b\b\b\b\b\b\b\b\b\b\b\b\b\b\b\b\b\b\b\b\b\b\b\b\b\b\b\b\b\b\b\b\b\b\b 80% 47 - dataset/part_one_dataset/eval_data/10_eval_data.tar.pth\b\b\b\b\b\b\b\b\b\b\b\b\b\b\b\b\b\b\b\b\b\b\b\b\b\b\b\b\b\b\b\b\b\b\b\b\b\b\b\b\b\b\b\b\b\b\b\b\b\b\b\b\b\b\b\b\b\b\b\b\b\b\b\b\b                                                                 \b\b\b\b\b\b\b\b\b\b\b\b\b\b\b\b\b\b\b\b\b\b\b\b\b\b\b\b\b\b\b\b\b\b\b\b\b\b\b\b\b\b\b\b\b\b\b\b\b\b\b\b\b\b\b\b\b\b\b\b\b\b\b\b\b 84% 48 - dataset/part_one_dataset/eval_data/5_eval_data.tar.pth\b\b\b\b\b\b\b\b\b\b\b\b\b\b\b\b\b\b\b\b\b\b\b\b\b\b\b\b\b\b\b\b\b\b\b\b\b\b\b\b\b\b\b\b\b\b\b\b\b\b\b\b\b\b\b\b\b\b\b\b\b\b\b\b                                                                \b\b\b\b\b\b\b\b\b\b\b\b\b\b\b\b\b\b\b\b\b\b\b\b\b\b\b\b\b\b\b\b\b\b\b\b\b\b\b\b\b\b\b\b\b\b\b\b\b\b\b\b\b\b\b\b\b\b\b\b\b\b\b\b 88% 50 - dataset/part_one_dataset/eval_data/1_eval_data.tar.pth\b\b\b\b\b\b\b\b\b\b\b\b\b\b\b\b\b\b\b\b\b\b\b\b\b\b\b\b\b\b\b\b\b\b\b\b\b\b\b\b\b\b\b\b\b\b\b\b\b\b\b\b\b\b\b\b\b\b\b\b\b\b\b\b                                                                \b\b\b\b\b\b\b\b\b\b\b\b\b\b\b\b\b\b\b\b\b\b\b\b\b\b\b\b\b\b\b\b\b\b\b\b\b\b\b\b\b\b\b\b\b\b\b\b\b\b\b\b\b\b\b\b\b\b\b\b\b\b\b\b 92% 51 - dataset/part_one_dataset/eval_data/7_eval_data.tar.pth\b\b\b\b\b\b\b\b\b\b\b\b\b\b\b\b\b\b\b\b\b\b\b\b\b\b\b\b\b\b\b\b\b\b\b\b\b\b\b\b\b\b\b\b\b\b\b\b\b\b\b\b\b\b\b\b\b\b\b\b\b\b\b\b                                                                \b\b\b\b\b\b\b\b\b\b\b\b\b\b\b\b\b\b\b\b\b\b\b\b\b\b\b\b\b\b\b\b\b\b\b\b\b\b\b\b\b\b\b\b\b\b\b\b\b\b\b\b\b\b\b\b\b\b\b\b\b\b\b\b 95% 53 - dataset/part_one_dataset/eval_data/6_eval_data.tar.pth\b\b\b\b\b\b\b\b\b\b\b\b\b\b\b\b\b\b\b\b\b\b\b\b\b\b\b\b\b\b\b\b\b\b\b\b\b\b\b\b\b\b\b\b\b\b\b\b\b\b\b\b\b\b\b\b\b\b\b\b\b\b\b\b                                                                \b\b\b\b\b\b\b\b\b\b\b\b\b\b\b\b\b\b\b\b\b\b\b\b\b\b\b\b\b\b\b\b\b\b\b\b\b\b\b\b\b\b\b\b\b\b\b\b\b\b\b\b\b\b\b\b\b\b\b\b\b\b\b\b 98% 54 - dataset/part_one_dataset/eval_data/3_eval_data.tar.pth\b\b\b\b\b\b\b\b\b\b\b\b\b\b\b\b\b\b\b\b\b\b\b\b\b\b\b\b\b\b\b\b\b\b\b\b\b\b\b\b\b\b\b\b\b\b\b\b\b\b\b\b\b\b\b\b\b\b\b\b\b\b\b\b                                                                \b\b\b\b\b\b\b\b\b\b\b\b\b\b\b\b\b\b\b\b\b\b\b\b\b\b\b\b\b\b\b\b\b\b\b\b\b\b\b\b\b\b\b\b\b\b\b\b\b\b\b\b\b\b\b\b\b\b\b\b\b\b\b\bEverything is Ok\n",
            "\n",
            "Folders: 7\n",
            "Files: 48\n",
            "Size:       451362313\n",
            "Compressed: 301067282\n"
          ]
        }
      ],
      "source": [
        "#downloading dataset\n",
        "!gdown https://drive.google.com/uc?id=16hB6UKRYC45BzAby92-eG19fLZ-rTqlA\n",
        "!7z x dataset.zip"
      ]
    },
    {
      "cell_type": "code",
      "source": [
        "#All libraries used\n",
        "import torch\n",
        "import numpy as np\n",
        "import pandas as pd\n",
        "import torch.nn as nn\n",
        "import tensorflow as tf\n",
        "from operator import inv\n",
        "import matplotlib.pyplot as plt\n",
        "import torch.nn.functional as F\n",
        "from torchvision import transforms\n",
        "from keras.models import load_model\n",
        "from sklearn.decomposition import PCA\n",
        "from sklearn.metrics import accuracy_score\n",
        "from scipy.spatial.distance import mahalanobis\n",
        "from tensorflow.keras.applications import ResNet50\n",
        "from sklearn.discriminant_analysis import LinearDiscriminantAnalysis"
      ],
      "metadata": {
        "id": "MqhAbY7gr44e"
      },
      "execution_count": null,
      "outputs": []
    },
    {
      "cell_type": "code",
      "source": [
        "# Load the data\n",
        "eval=[]\n",
        "for i in range(1,11):\n",
        "  eval_path = '/content/dataset/part_one_dataset/eval_data/' + str(i) + '_eval_data.tar.pth'\n",
        "  eval.append(torch.load(eval_path))\n",
        "for i in range(1,11):\n",
        "  eval_path = '/content/dataset/part_two_dataset/eval_data/' + str(i) + '_eval_data.tar.pth'\n",
        "  eval.append(torch.load(eval_path))\n",
        "data=[]\n",
        "for i in range(1,11):\n",
        "  data_path = '/content/dataset/part_one_dataset/train_data/' + str(i) + '_train_data.tar.pth'\n",
        "  data.append(torch.load(data_path))\n",
        "for i in range(1,11):\n",
        "  data_path = '/content/dataset/part_two_dataset/train_data/' + str(i) + '_train_data.tar.pth'\n",
        "  data.append(torch.load(data_path))"
      ],
      "metadata": {
        "id": "rI8P5WRwpdXg",
        "colab": {
          "base_uri": "https://localhost:8080/"
        },
        "outputId": "62e73e92-6bef-4ff4-b60f-d6286ef5337e",
        "collapsed": true
      },
      "execution_count": null,
      "outputs": [
        {
          "output_type": "stream",
          "name": "stderr",
          "text": [
            "<ipython-input-3-deb261d2ba98>:5: FutureWarning: You are using `torch.load` with `weights_only=False` (the current default value), which uses the default pickle module implicitly. It is possible to construct malicious pickle data which will execute arbitrary code during unpickling (See https://github.com/pytorch/pytorch/blob/main/SECURITY.md#untrusted-models for more details). In a future release, the default value for `weights_only` will be flipped to `True`. This limits the functions that could be executed during unpickling. Arbitrary objects will no longer be allowed to be loaded via this mode unless they are explicitly allowlisted by the user via `torch.serialization.add_safe_globals`. We recommend you start setting `weights_only=True` for any use case where you don't have full control of the loaded file. Please open an issue on GitHub for any issues related to this experimental feature.\n",
            "  eval.append(torch.load(eval_path))\n",
            "<ipython-input-3-deb261d2ba98>:8: FutureWarning: You are using `torch.load` with `weights_only=False` (the current default value), which uses the default pickle module implicitly. It is possible to construct malicious pickle data which will execute arbitrary code during unpickling (See https://github.com/pytorch/pytorch/blob/main/SECURITY.md#untrusted-models for more details). In a future release, the default value for `weights_only` will be flipped to `True`. This limits the functions that could be executed during unpickling. Arbitrary objects will no longer be allowed to be loaded via this mode unless they are explicitly allowlisted by the user via `torch.serialization.add_safe_globals`. We recommend you start setting `weights_only=True` for any use case where you don't have full control of the loaded file. Please open an issue on GitHub for any issues related to this experimental feature.\n",
            "  eval.append(torch.load(eval_path))\n",
            "<ipython-input-3-deb261d2ba98>:12: FutureWarning: You are using `torch.load` with `weights_only=False` (the current default value), which uses the default pickle module implicitly. It is possible to construct malicious pickle data which will execute arbitrary code during unpickling (See https://github.com/pytorch/pytorch/blob/main/SECURITY.md#untrusted-models for more details). In a future release, the default value for `weights_only` will be flipped to `True`. This limits the functions that could be executed during unpickling. Arbitrary objects will no longer be allowed to be loaded via this mode unless they are explicitly allowlisted by the user via `torch.serialization.add_safe_globals`. We recommend you start setting `weights_only=True` for any use case where you don't have full control of the loaded file. Please open an issue on GitHub for any issues related to this experimental feature.\n",
            "  data.append(torch.load(data_path))\n",
            "<ipython-input-3-deb261d2ba98>:15: FutureWarning: You are using `torch.load` with `weights_only=False` (the current default value), which uses the default pickle module implicitly. It is possible to construct malicious pickle data which will execute arbitrary code during unpickling (See https://github.com/pytorch/pytorch/blob/main/SECURITY.md#untrusted-models for more details). In a future release, the default value for `weights_only` will be flipped to `True`. This limits the functions that could be executed during unpickling. Arbitrary objects will no longer be allowed to be loaded via this mode unless they are explicitly allowlisted by the user via `torch.serialization.add_safe_globals`. We recommend you start setting `weights_only=True` for any use case where you don't have full control of the loaded file. Please open an issue on GitHub for any issues related to this experimental feature.\n",
            "  data.append(torch.load(data_path))\n"
          ]
        }
      ]
    },
    {
      "cell_type": "code",
      "source": [
        "#Create separated list of datasets and labels\n",
        "X = []\n",
        "Y = []\n",
        "XV = []\n",
        "YV = []\n",
        "for i in range(20):\n",
        "    X.append(data[i]['data'])\n",
        "    XV.append(eval[i]['data'])\n",
        "    if(i==0):\n",
        "      Y.append(data[i]['targets'])\n",
        "    YV.append(eval[i]['targets'])"
      ],
      "metadata": {
        "id": "DLlHA7VxrGU0"
      },
      "execution_count": null,
      "outputs": []
    },
    {
      "cell_type": "markdown",
      "source": [
        "# ***2. RandMix on dataset 1***"
      ],
      "metadata": {
        "id": "HbYKB8aERSQi"
      }
    },
    {
      "cell_type": "code",
      "source": [
        "#Create RandMix class\n",
        "class AdaIN2d(nn.Module):\n",
        "  def __init__(self, style_dim, num_features):\n",
        "    super().__init__()\n",
        "    self.norm = nn.InstanceNorm2d(num_features, affine=False)\n",
        "    self.fc = nn.Linear(style_dim, num_features*2)\n",
        "\n",
        "  def forward(self, x, s):\n",
        "    h = self.fc(s)\n",
        "    h = h.view(h.size(0), h.size(1), 1, 1)\n",
        "    gamma, beta = torch.chunk(h, chunks=2, dim=1)\n",
        "    return (1 + gamma) * self.norm(x) + beta\n",
        "\n",
        "\n",
        "class RandMix(nn.Module):\n",
        "  def __init__(self, noise_lv):\n",
        "    super(RandMix, self).__init__()\n",
        "    self.zdim = zdim = 10\n",
        "    self.noise_lv = noise_lv\n",
        "    self.adain_1 = AdaIN2d(zdim, 3)\n",
        "    self.adain_2 = AdaIN2d(zdim, 3)\n",
        "    self.adain_3 = AdaIN2d(zdim, 3)\n",
        "    self.adain_4 = AdaIN2d(zdim, 3)\n",
        "    self.tran = transforms.Normalize([0.485, 0.456, 0.406], std=[0.229, 0.224, 0.225])\n",
        "\n",
        "  def forward(self, x, estimation=False, ratio=0):\n",
        "    data = x\n",
        "\n",
        "    spatial1 = nn.Conv2d(3, 3, 5).cuda()\n",
        "    spatial_up1 = nn.ConvTranspose2d(3, 3, 5).cuda()\n",
        "\n",
        "    spatial2 = nn.Conv2d(3, 3, 9).cuda()\n",
        "    spatial_up2 = nn.ConvTranspose2d(3, 3, 9).cuda()\n",
        "\n",
        "    spatial3 = nn.Conv2d(3, 3, 13).cuda()\n",
        "    spatial_up3 = nn.ConvTranspose2d(3, 3, 13).cuda()\n",
        "\n",
        "    spatial4 = nn.Conv2d(3, 3, 17).cuda()\n",
        "    spatial_up4 = nn.ConvTranspose2d(3, 3, 17).cuda()\n",
        "\n",
        "    color = nn.Conv2d(3, 3, 1).cuda()\n",
        "    weight = torch.randn(6)\n",
        "\n",
        "    x = x + torch.randn_like(x) * self.noise_lv * 0.001\n",
        "    x_c = torch.tanh(F.dropout(color(x), p=.2))\n",
        "\n",
        "    x_s1down = spatial1(x)\n",
        "    s = torch.randn(len(x_s1down), self.zdim).cuda()\n",
        "    x_s1down = self.adain_1(x_s1down, s)\n",
        "    x_s1 = torch.tanh(spatial_up1(x_s1down))\n",
        "\n",
        "    x_s2down = spatial2(x)\n",
        "    s = torch.randn(len(x_s2down), self.zdim).cuda()\n",
        "    x_s2down = self.adain_2(x_s2down, s)\n",
        "    x_s2 = torch.tanh(spatial_up2(x_s2down))\n",
        "\n",
        "    x_s3down = spatial3(x)\n",
        "    s = torch.randn(len(x_s3down), self.zdim).cuda()\n",
        "    x_s3down = self.adain_3(x_s3down, s)\n",
        "    x_s3 = torch.tanh(spatial_up3(x_s3down))\n",
        "\n",
        "    x_s4down = spatial4(x)\n",
        "    s = torch.randn(len(x_s4down), self.zdim).cuda()\n",
        "    x_s4down = self.adain_4(x_s4down, s)\n",
        "    x_s4 = torch.tanh(spatial_up4(x_s4down))\n",
        "\n",
        "    output = (weight[0] * x_c + weight[1] * x_s1 + weight[2] * x_s2 + weight[3] * x_s3 + weight[4] * x_s4 + weight[5] * data) / weight.sum()\n",
        "    return output"
      ],
      "metadata": {
        "id": "pbppE0adDf9r"
      },
      "execution_count": null,
      "outputs": []
    },
    {
      "cell_type": "code",
      "source": [
        "#Apply RandMix\n",
        "randmix = RandMix(noise_lv=0.5).cuda()\n",
        "X_0 = torch.from_numpy(X[0]).permute(0, 3, 1, 2).cuda() # Reshape X[0] to match the input format required by RandMix, Move to GPU and permute dimensions\n",
        "X_0 = X_0.type(torch.float32) # Convert X_0 to float32 before applying RandMix\n",
        "\n",
        "aug_x_0 = randmix(X_0)  # Apply RandMix to generate augmented data\n",
        "aug_x_0 = aug_x_0.permute(0, 2, 3, 1).cpu().detach().numpy()  # Reshape output back to [2500, 32, 32, 3]\n",
        "X[0]= np.concatenate((X[0], aug_x_0), axis=0) # Concatenate the original and augmented data\n",
        "Y[0] = np.concatenate((Y[0], Y[0]), axis=0) # Concatenate Y labels for augmented X_0 also\n",
        "\n",
        "# Verify shapes and data types\n",
        "print(\"New X[0] shape:\", X[0].shape)x\n",
        "print(\"New Y[0] shape:\", Y[0].shape)\n",
        "print(\"X[0] data type:\", X[0].dtype)\n",
        "print(\"Y[0] data type:\", Y[0].dtype)"
      ],
      "metadata": {
        "colab": {
          "base_uri": "https://localhost:8080/"
        },
        "id": "_0leBBJzD1CC",
        "outputId": "b31f951c-6bfd-48fc-f1e5-6128854ed766"
      },
      "execution_count": null,
      "outputs": [
        {
          "output_type": "stream",
          "name": "stdout",
          "text": [
            "New X[0] shape: (5000, 32, 32, 3)\n",
            "New Y[0] shape: (5000,)\n",
            "X[0] data type: float32\n",
            "Y[0] data type: int64\n"
          ]
        }
      ]
    },
    {
      "cell_type": "markdown",
      "source": [
        "# ***3. Feature extraction and pre-processing***"
      ],
      "metadata": {
        "id": "fAaAkTm-Rmi7"
      }
    },
    {
      "cell_type": "code",
      "source": [
        "#Load pre-trained Resnet-50 model\n",
        "model = ResNet50(weights='imagenet', include_top=False, input_shape=(32, 32, 3))"
      ],
      "metadata": {
        "id": "NZtrDIHEOMTs",
        "colab": {
          "base_uri": "https://localhost:8080/"
        },
        "outputId": "42579d43-03eb-4865-98bd-f10bde12b292"
      },
      "execution_count": null,
      "outputs": [
        {
          "output_type": "stream",
          "name": "stdout",
          "text": [
            "Downloading data from https://storage.googleapis.com/tensorflow/keras-applications/resnet/resnet50_weights_tf_dim_ordering_tf_kernels_notop.h5\n",
            "\u001b[1m94765736/94765736\u001b[0m \u001b[32m━━━━━━━━━━━━━━━━━━━━\u001b[0m\u001b[37m\u001b[0m \u001b[1m5s\u001b[0m 0us/step\n"
          ]
        }
      ]
    },
    {
      "cell_type": "code",
      "source": [
        "#Extract features of train and validation data\n",
        "ext_feat = []\n",
        "ext_feat_val = []\n",
        "\n",
        "for dataset in X:\n",
        "    features = model.predict(dataset)\n",
        "    ext_feat.append(features)\n",
        "for dataset in XV:\n",
        "    features = model.predict(dataset)\n",
        "    ext_feat_val.append(features)"
      ],
      "metadata": {
        "colab": {
          "base_uri": "https://localhost:8080/"
        },
        "id": "GX27UUpCDbqt",
        "outputId": "e89d78c6-6a32-488d-8166-922ef9a20763"
      },
      "execution_count": null,
      "outputs": [
        {
          "output_type": "stream",
          "name": "stdout",
          "text": [
            "\u001b[1m157/157\u001b[0m \u001b[32m━━━━━━━━━━━━━━━━━━━━\u001b[0m\u001b[37m\u001b[0m \u001b[1m9s\u001b[0m 27ms/step\n",
            "\u001b[1m79/79\u001b[0m \u001b[32m━━━━━━━━━━━━━━━━━━━━\u001b[0m\u001b[37m\u001b[0m \u001b[1m7s\u001b[0m 50ms/step\n",
            "\u001b[1m79/79\u001b[0m \u001b[32m━━━━━━━━━━━━━━━━━━━━\u001b[0m\u001b[37m\u001b[0m \u001b[1m1s\u001b[0m 6ms/step\n",
            "\u001b[1m79/79\u001b[0m \u001b[32m━━━━━━━━━━━━━━━━━━━━\u001b[0m\u001b[37m\u001b[0m \u001b[1m0s\u001b[0m 5ms/step\n",
            "\u001b[1m79/79\u001b[0m \u001b[32m━━━━━━━━━━━━━━━━━━━━\u001b[0m\u001b[37m\u001b[0m \u001b[1m1s\u001b[0m 6ms/step\n",
            "\u001b[1m79/79\u001b[0m \u001b[32m━━━━━━━━━━━━━━━━━━━━\u001b[0m\u001b[37m\u001b[0m \u001b[1m1s\u001b[0m 7ms/step\n",
            "\u001b[1m79/79\u001b[0m \u001b[32m━━━━━━━━━━━━━━━━━━━━\u001b[0m\u001b[37m\u001b[0m \u001b[1m1s\u001b[0m 8ms/step\n",
            "\u001b[1m79/79\u001b[0m \u001b[32m━━━━━━━━━━━━━━━━━━━━\u001b[0m\u001b[37m\u001b[0m \u001b[1m0s\u001b[0m 5ms/step\n",
            "\u001b[1m79/79\u001b[0m \u001b[32m━━━━━━━━━━━━━━━━━━━━\u001b[0m\u001b[37m\u001b[0m \u001b[1m0s\u001b[0m 5ms/step\n",
            "\u001b[1m79/79\u001b[0m \u001b[32m━━━━━━━━━━━━━━━━━━━━\u001b[0m\u001b[37m\u001b[0m \u001b[1m0s\u001b[0m 5ms/step\n",
            "\u001b[1m79/79\u001b[0m \u001b[32m━━━━━━━━━━━━━━━━━━━━\u001b[0m\u001b[37m\u001b[0m \u001b[1m0s\u001b[0m 5ms/step\n",
            "\u001b[1m79/79\u001b[0m \u001b[32m━━━━━━━━━━━━━━━━━━━━\u001b[0m\u001b[37m\u001b[0m \u001b[1m0s\u001b[0m 5ms/step\n",
            "\u001b[1m79/79\u001b[0m \u001b[32m━━━━━━━━━━━━━━━━━━━━\u001b[0m\u001b[37m\u001b[0m \u001b[1m0s\u001b[0m 5ms/step\n",
            "\u001b[1m79/79\u001b[0m \u001b[32m━━━━━━━━━━━━━━━━━━━━\u001b[0m\u001b[37m\u001b[0m \u001b[1m0s\u001b[0m 5ms/step\n",
            "\u001b[1m79/79\u001b[0m \u001b[32m━━━━━━━━━━━━━━━━━━━━\u001b[0m\u001b[37m\u001b[0m \u001b[1m0s\u001b[0m 5ms/step\n",
            "\u001b[1m79/79\u001b[0m \u001b[32m━━━━━━━━━━━━━━━━━━━━\u001b[0m\u001b[37m\u001b[0m \u001b[1m0s\u001b[0m 5ms/step\n",
            "\u001b[1m79/79\u001b[0m \u001b[32m━━━━━━━━━━━━━━━━━━━━\u001b[0m\u001b[37m\u001b[0m \u001b[1m0s\u001b[0m 5ms/step\n",
            "\u001b[1m79/79\u001b[0m \u001b[32m━━━━━━━━━━━━━━━━━━━━\u001b[0m\u001b[37m\u001b[0m \u001b[1m0s\u001b[0m 5ms/step\n",
            "\u001b[1m79/79\u001b[0m \u001b[32m━━━━━━━━━━━━━━━━━━━━\u001b[0m\u001b[37m\u001b[0m \u001b[1m0s\u001b[0m 5ms/step\n",
            "\u001b[1m79/79\u001b[0m \u001b[32m━━━━━━━━━━━━━━━━━━━━\u001b[0m\u001b[37m\u001b[0m \u001b[1m0s\u001b[0m 5ms/step\n",
            "\u001b[1m79/79\u001b[0m \u001b[32m━━━━━━━━━━━━━━━━━━━━\u001b[0m\u001b[37m\u001b[0m \u001b[1m0s\u001b[0m 5ms/step\n",
            "\u001b[1m79/79\u001b[0m \u001b[32m━━━━━━━━━━━━━━━━━━━━\u001b[0m\u001b[37m\u001b[0m \u001b[1m0s\u001b[0m 5ms/step\n",
            "\u001b[1m79/79\u001b[0m \u001b[32m━━━━━━━━━━━━━━━━━━━━\u001b[0m\u001b[37m\u001b[0m \u001b[1m0s\u001b[0m 5ms/step\n",
            "\u001b[1m79/79\u001b[0m \u001b[32m━━━━━━━━━━━━━━━━━━━━\u001b[0m\u001b[37m\u001b[0m \u001b[1m1s\u001b[0m 7ms/step\n",
            "\u001b[1m79/79\u001b[0m \u001b[32m━━━━━━━━━━━━━━━━━━━━\u001b[0m\u001b[37m\u001b[0m \u001b[1m1s\u001b[0m 7ms/step\n",
            "\u001b[1m79/79\u001b[0m \u001b[32m━━━━━━━━━━━━━━━━━━━━\u001b[0m\u001b[37m\u001b[0m \u001b[1m0s\u001b[0m 5ms/step\n",
            "\u001b[1m79/79\u001b[0m \u001b[32m━━━━━━━━━━━━━━━━━━━━\u001b[0m\u001b[37m\u001b[0m \u001b[1m0s\u001b[0m 5ms/step\n",
            "\u001b[1m79/79\u001b[0m \u001b[32m━━━━━━━━━━━━━━━━━━━━\u001b[0m\u001b[37m\u001b[0m \u001b[1m0s\u001b[0m 5ms/step\n",
            "\u001b[1m79/79\u001b[0m \u001b[32m━━━━━━━━━━━━━━━━━━━━\u001b[0m\u001b[37m\u001b[0m \u001b[1m0s\u001b[0m 5ms/step\n",
            "\u001b[1m79/79\u001b[0m \u001b[32m━━━━━━━━━━━━━━━━━━━━\u001b[0m\u001b[37m\u001b[0m \u001b[1m0s\u001b[0m 5ms/step\n",
            "\u001b[1m79/79\u001b[0m \u001b[32m━━━━━━━━━━━━━━━━━━━━\u001b[0m\u001b[37m\u001b[0m \u001b[1m0s\u001b[0m 5ms/step\n",
            "\u001b[1m79/79\u001b[0m \u001b[32m━━━━━━━━━━━━━━━━━━━━\u001b[0m\u001b[37m\u001b[0m \u001b[1m0s\u001b[0m 5ms/step\n",
            "\u001b[1m79/79\u001b[0m \u001b[32m━━━━━━━━━━━━━━━━━━━━\u001b[0m\u001b[37m\u001b[0m \u001b[1m0s\u001b[0m 5ms/step\n",
            "\u001b[1m79/79\u001b[0m \u001b[32m━━━━━━━━━━━━━━━━━━━━\u001b[0m\u001b[37m\u001b[0m \u001b[1m0s\u001b[0m 5ms/step\n",
            "\u001b[1m79/79\u001b[0m \u001b[32m━━━━━━━━━━━━━━━━━━━━\u001b[0m\u001b[37m\u001b[0m \u001b[1m0s\u001b[0m 5ms/step\n",
            "\u001b[1m79/79\u001b[0m \u001b[32m━━━━━━━━━━━━━━━━━━━━\u001b[0m\u001b[37m\u001b[0m \u001b[1m0s\u001b[0m 5ms/step\n",
            "\u001b[1m79/79\u001b[0m \u001b[32m━━━━━━━━━━━━━━━━━━━━\u001b[0m\u001b[37m\u001b[0m \u001b[1m0s\u001b[0m 5ms/step\n",
            "\u001b[1m79/79\u001b[0m \u001b[32m━━━━━━━━━━━━━━━━━━━━\u001b[0m\u001b[37m\u001b[0m \u001b[1m0s\u001b[0m 5ms/step\n",
            "\u001b[1m79/79\u001b[0m \u001b[32m━━━━━━━━━━━━━━━━━━━━\u001b[0m\u001b[37m\u001b[0m \u001b[1m0s\u001b[0m 5ms/step\n",
            "\u001b[1m79/79\u001b[0m \u001b[32m━━━━━━━━━━━━━━━━━━━━\u001b[0m\u001b[37m\u001b[0m \u001b[1m0s\u001b[0m 5ms/step\n"
          ]
        }
      ]
    },
    {
      "cell_type": "code",
      "source": [
        "#Reshape in correct shape\n",
        "RX=[0]*20\n",
        "RX_val=[0]*20\n",
        "for i in range(20):\n",
        "   RX[i]=ext_feat[i].reshape(len(X[i]),-1)\n",
        "   RX_val[i]=ext_feat_val[i].reshape(len(XV[i]),-1)"
      ],
      "metadata": {
        "id": "ph3sM6QHC3cd"
      },
      "execution_count": null,
      "outputs": []
    },
    {
      "cell_type": "code",
      "source": [
        "#Dimentionality reduction for data\n",
        "\n",
        "#First perform PCA\n",
        "pca = PCA(n_components=128)\n",
        "pca.fit(RX[0])\n",
        "for i in range(len(RX)):\n",
        "  RX[i] = pca.transform(RX[i])\n",
        "  RX_val[i] = pca.transform(RX_val[i])\n",
        "\n",
        "#Then perform LDA\n",
        "lda = LinearDiscriminantAnalysis()\n",
        "lda.fit(RX[0], Y[0])\n",
        "for i in range(len(RX)):\n",
        "  RX[i] = lda.transform(RX[i])\n",
        "  RX_val[i] = lda.transform(RX_val[i])"
      ],
      "metadata": {
        "id": "Ct3f2V7_KMrl"
      },
      "execution_count": null,
      "outputs": []
    },
    {
      "cell_type": "markdown",
      "source": [
        "# ***4. Gaussian Mixture Model***"
      ],
      "metadata": {
        "id": "vNbMl4cCRsz9"
      }
    },
    {
      "cell_type": "code",
      "source": [
        "#Gaussian Mixture Model\n",
        "\n",
        "def pdet(A):\n",
        "  U, S, Vt = np.linalg.svd(A)\n",
        "  return np.prod(S[S > 1e-10])\n",
        "\n",
        "def GMM(X,Y):\n",
        "  #Returns distribution (mean, variance) and prior (class counts)\n",
        "  class_means = [0]*10\n",
        "  class_counts = [0]*10\n",
        "  for class_label in range(10):\n",
        "    class_indices = np.where(Y == class_label)[0]\n",
        "    class_counts[class_label] += len(class_indices)\n",
        "    if len(class_indices) > 0:\n",
        "      class_samples = X[class_indices]\n",
        "      class_means[class_label] = np.mean(class_samples, axis=0)\n",
        "\n",
        "  class_means = np.array(class_means)\n",
        "\n",
        "  COV=np.array([[[0.0 for j in range(X.shape[1])] for i in range(X.shape[1])] for k in range(10)])\n",
        "  for i in range(len(X)):\n",
        "    COV[Y[i]]+=np.outer(X[i]-class_means[Y[i]],X[i]-class_means[Y[i]])\n",
        "  for k in range(10):\n",
        "    COV[k]/=class_counts[k]\n",
        "\n",
        "  return class_means,COV,class_counts\n",
        "\n",
        "#Generate samples from learned distribution\n",
        "def Generate_samples(recall,class_means,COV,class_counts,threshold):\n",
        "  generated_samples = []\n",
        "  N = sum(class_counts)\n",
        "  for k in range(10):\n",
        "    inv = np.linalg.pinv(COV[k])\n",
        "    det = pdet(COV[k])\n",
        "    i = 0\n",
        "    while i<((recall*class_counts[k])//N):\n",
        "      sample = np.random.multivariate_normal(class_means[k], COV[k])\n",
        "      if np.log(class_counts[k]) - (0.5)*np.log(np.abs(det)) - (0.5)*((sample-class_means[k]).T @ (inv) @ (sample-class_means[k])) > threshold:\n",
        "        generated_samples.append(sample)\n",
        "        i+=1\n",
        "  generated_samples = np.array(generated_samples)\n",
        "  return generated_samples\n",
        "\n",
        "#Predict on a dataset X\n",
        "def predict_gmm(X,class_means,COV,class_counts):\n",
        "  predicted_probs = [[0 for k in range(10)] for i in range(len(X))]\n",
        "  for k in range(10):\n",
        "    inv = np.linalg.pinv(COV[k])\n",
        "    det = pdet(COV[k])\n",
        "    for i in range(len(X)):\n",
        "      predicted_probs[i][k] = np.log(class_counts[k]) - (0.5)*np.log(np.abs(det)) - (0.5)*((X[i]-class_means[k]).T @ (inv) @ (X[i]-class_means[k]))\n",
        "\n",
        "  predicted_labels = [0]*len(X)\n",
        "\n",
        "  for i in range(len(X)):\n",
        "    predicted_labels[i] = np.argmax(predicted_probs[i])\n",
        "\n",
        "  predicted_labels = np.array(predicted_labels)\n",
        "  return predicted_labels"
      ],
      "metadata": {
        "id": "JVEwSQdRIunV"
      },
      "execution_count": null,
      "outputs": []
    },
    {
      "cell_type": "code",
      "source": [
        "def feat_ext(X):\n",
        "  features = model.predict(X)\n",
        "  features = features.reshape(features.shape[0], -1)\n",
        "  features = pca.transform(features)\n",
        "  features = lda.transform(features)\n",
        "  return features"
      ],
      "metadata": {
        "id": "fa-C4wZXLvqP"
      },
      "execution_count": null,
      "outputs": []
    },
    {
      "cell_type": "code",
      "source": [
        "#Get distribution of 1st dataset (model initialization)\n",
        "class_means,COV,class_counts = GMM(RX[0],Y[0])\n",
        "\n",
        "#Compute determinant and inverse of covariance matrix for 10 classes of dataset 1\n",
        "det=[0]*10\n",
        "inv=[0]*10\n",
        "for k in range(10):\n",
        "    inv[k]=np.linalg.pinv(COV[k])\n",
        "    det[k]=pdet(COV[k])"
      ],
      "metadata": {
        "id": "aXDeiYzQI2t0"
      },
      "execution_count": null,
      "outputs": []
    },
    {
      "cell_type": "code",
      "source": [
        "recall = 2500 #Recall for generating samples\n",
        "threshold = 0 #For generating better samples (score >0 only)\n",
        "\n",
        "#Model updation and prediction\n",
        "table = [[0 for i in range(20)] for j in range(20)]\n",
        "table[0][0] = accuracy_score(YV[0], predict_gmm(RX_val[0],class_means,COV,class_counts))*100\n",
        "for i in range(1,20):\n",
        "  generated_samples = Generate_samples(recall,class_means,COV,class_counts,threshold)\n",
        "  rand_samples = []\n",
        "  for j in range(len(RX[i])):\n",
        "    L=[np.log(class_counts[k]) - (0.5)*np.log(np.abs(det[k])) - (0.5)*((RX[i][j]-class_means[k]).T @ (inv[k]) @ (RX[i][j]-class_means[k])) for k in range(10)]\n",
        "    L=[np.exp(score) for score in L]\n",
        "    if (max(L))/(sum(L)) > 0.8 :\n",
        "      rand_samples.append(X[i][j])\n",
        "\n",
        "  rand_samples = np.array(rand_samples)\n",
        "  if(len(rand_samples)>0):\n",
        "    X_0 = torch.from_numpy(rand_samples).permute(0, 3, 1, 2).cuda()\n",
        "    X_0 = X_0.type(torch.float32)\n",
        "    output = randmix(X_0)\n",
        "    output = output.permute(0, 2, 3, 1).cpu().detach().numpy()\n",
        "  else:\n",
        "    output = rand_samples\n",
        "\n",
        "\n",
        "\n",
        "  Union_data = np.concatenate((RX[i],generated_samples),axis=0)\n",
        "  if(len(rand_samples)>0):\n",
        "    Union_data = np.concatenate((Union_data,feat_ext(output)),axis=0)\n",
        "  Union_labels = predict_gmm(Union_data,class_means,COV,class_counts)\n",
        "\n",
        "  __,____,class_counts1 = GMM(Union_data,Union_labels)\n",
        "\n",
        "  final_data=[]\n",
        "  for k in range(10):\n",
        "     temp1 = sorted([Union_data[j] for j in range(len(Union_data)) if Union_labels[j]==k],key=lambda x:np.log(class_counts[k]) - (0.5)*np.log(np.abs(det[k])) - (0.5)*((x-class_means[k]).T @ (inv[k]) @ (x-class_means[k])))\n",
        "     for temp2 in temp1[::-1][0:class_counts1[k]//2]:\n",
        "        final_data.append(temp2)\n",
        "  final_data = np.array(final_data)\n",
        "\n",
        "  class_means,COV,class_counts = GMM(final_data,predict_gmm(final_data,class_means,COV,class_counts))\n",
        "  for k in range(10):\n",
        "    inv[k]=np.linalg.pinv(COV[k])\n",
        "    det[k]=pdet(COV[k])\n",
        "\n",
        "  for j in range(i+1):\n",
        "    validation_accuracy = accuracy_score(YV[j], predict_gmm(RX_val[j],class_means,COV,class_counts))\n",
        "    table[i][j]=validation_accuracy*100"
      ],
      "metadata": {
        "colab": {
          "base_uri": "https://localhost:8080/"
        },
        "id": "CTy5q9NjJcYa",
        "outputId": "6124034d-f5f0-400f-835b-c10a45200f83"
      },
      "execution_count": null,
      "outputs": [
        {
          "output_type": "stream",
          "name": "stdout",
          "text": [
            "\u001b[1m30/30\u001b[0m \u001b[32m━━━━━━━━━━━━━━━━━━━━\u001b[0m\u001b[37m\u001b[0m \u001b[1m2s\u001b[0m 65ms/step\n",
            "\u001b[1m56/56\u001b[0m \u001b[32m━━━━━━━━━━━━━━━━━━━━\u001b[0m\u001b[37m\u001b[0m \u001b[1m3s\u001b[0m 48ms/step\n",
            "\u001b[1m59/59\u001b[0m \u001b[32m━━━━━━━━━━━━━━━━━━━━\u001b[0m\u001b[37m\u001b[0m \u001b[1m2s\u001b[0m 37ms/step\n",
            "\u001b[1m62/62\u001b[0m \u001b[32m━━━━━━━━━━━━━━━━━━━━\u001b[0m\u001b[37m\u001b[0m \u001b[1m3s\u001b[0m 42ms/step\n",
            "\u001b[1m63/63\u001b[0m \u001b[32m━━━━━━━━━━━━━━━━━━━━\u001b[0m\u001b[37m\u001b[0m \u001b[1m2s\u001b[0m 35ms/step\n",
            "\u001b[1m65/65\u001b[0m \u001b[32m━━━━━━━━━━━━━━━━━━━━\u001b[0m\u001b[37m\u001b[0m \u001b[1m2s\u001b[0m 34ms/step\n",
            "\u001b[1m65/65\u001b[0m \u001b[32m━━━━━━━━━━━━━━━━━━━━\u001b[0m\u001b[37m\u001b[0m \u001b[1m2s\u001b[0m 34ms/step\n",
            "\u001b[1m63/63\u001b[0m \u001b[32m━━━━━━━━━━━━━━━━━━━━\u001b[0m\u001b[37m\u001b[0m \u001b[1m0s\u001b[0m 6ms/step\n",
            "\u001b[1m64/64\u001b[0m \u001b[32m━━━━━━━━━━━━━━━━━━━━\u001b[0m\u001b[37m\u001b[0m \u001b[1m2s\u001b[0m 34ms/step\n",
            "\u001b[1m66/66\u001b[0m \u001b[32m━━━━━━━━━━━━━━━━━━━━\u001b[0m\u001b[37m\u001b[0m \u001b[1m2s\u001b[0m 30ms/step\n",
            "\u001b[1m63/63\u001b[0m \u001b[32m━━━━━━━━━━━━━━━━━━━━\u001b[0m\u001b[37m\u001b[0m \u001b[1m0s\u001b[0m 7ms/step\n",
            "\u001b[1m65/65\u001b[0m \u001b[32m━━━━━━━━━━━━━━━━━━━━\u001b[0m\u001b[37m\u001b[0m \u001b[1m2s\u001b[0m 34ms/step\n",
            "\u001b[1m67/67\u001b[0m \u001b[32m━━━━━━━━━━━━━━━━━━━━\u001b[0m\u001b[37m\u001b[0m \u001b[1m2s\u001b[0m 33ms/step\n",
            "\u001b[1m63/63\u001b[0m \u001b[32m━━━━━━━━━━━━━━━━━━━━\u001b[0m\u001b[37m\u001b[0m \u001b[1m0s\u001b[0m 6ms/step\n",
            "\u001b[1m58/58\u001b[0m \u001b[32m━━━━━━━━━━━━━━━━━━━━\u001b[0m\u001b[37m\u001b[0m \u001b[1m2s\u001b[0m 38ms/step\n",
            "\u001b[1m61/61\u001b[0m \u001b[32m━━━━━━━━━━━━━━━━━━━━\u001b[0m\u001b[37m\u001b[0m \u001b[1m1s\u001b[0m 8ms/step\n",
            "\u001b[1m53/53\u001b[0m \u001b[32m━━━━━━━━━━━━━━━━━━━━\u001b[0m\u001b[37m\u001b[0m \u001b[1m0s\u001b[0m 7ms/step\n",
            "\u001b[1m63/63\u001b[0m \u001b[32m━━━━━━━━━━━━━━━━━━━━\u001b[0m\u001b[37m\u001b[0m \u001b[1m2s\u001b[0m 33ms/step\n",
            "\u001b[1m69/69\u001b[0m \u001b[32m━━━━━━━━━━━━━━━━━━━━\u001b[0m\u001b[37m\u001b[0m \u001b[1m1s\u001b[0m 8ms/step\n"
          ]
        }
      ]
    },
    {
      "cell_type": "code",
      "source": [
        "#Print table\n",
        "GMM_table = pd.DataFrame(table)\n",
        "GMM_table.index = ['F'+str(i) for i in range(1,21)]\n",
        "GMM_table.columns = ['D'+str(i) for i in range(1,21)]\n",
        "print(GMM_table.to_string())"
      ],
      "metadata": {
        "colab": {
          "base_uri": "https://localhost:8080/"
        },
        "id": "lJs0KuPgMo3G",
        "outputId": "c4d98b6f-05e2-4f0c-fc93-08cfe2b37461"
      },
      "execution_count": null,
      "outputs": [
        {
          "output_type": "stream",
          "name": "stdout",
          "text": [
            "        D1     D2     D3     D4     D5     D6     D7     D8     D9    D10    D11    D12    D13    D14    D15    D16    D17    D18    D19    D20\n",
            "F1   51.64   0.00   0.00   0.00   0.00   0.00   0.00   0.00   0.00   0.00   0.00   0.00   0.00   0.00   0.00   0.00   0.00   0.00   0.00   0.00\n",
            "F2   45.64  45.12   0.00   0.00   0.00   0.00   0.00   0.00   0.00   0.00   0.00   0.00   0.00   0.00   0.00   0.00   0.00   0.00   0.00   0.00\n",
            "F3   44.72  44.08  43.36   0.00   0.00   0.00   0.00   0.00   0.00   0.00   0.00   0.00   0.00   0.00   0.00   0.00   0.00   0.00   0.00   0.00\n",
            "F4   43.36  43.36  42.76  43.24   0.00   0.00   0.00   0.00   0.00   0.00   0.00   0.00   0.00   0.00   0.00   0.00   0.00   0.00   0.00   0.00\n",
            "F5   37.12  36.72  37.40  37.24  38.44   0.00   0.00   0.00   0.00   0.00   0.00   0.00   0.00   0.00   0.00   0.00   0.00   0.00   0.00   0.00\n",
            "F6   36.48  35.52  36.32  36.36  37.48  37.56   0.00   0.00   0.00   0.00   0.00   0.00   0.00   0.00   0.00   0.00   0.00   0.00   0.00   0.00\n",
            "F7   35.32  33.28  33.64  34.52  35.84  35.16  36.04   0.00   0.00   0.00   0.00   0.00   0.00   0.00   0.00   0.00   0.00   0.00   0.00   0.00\n",
            "F8   23.48  23.00  25.32  24.56  25.36  25.52  24.76  24.48   0.00   0.00   0.00   0.00   0.00   0.00   0.00   0.00   0.00   0.00   0.00   0.00\n",
            "F9   21.04  20.48  22.60  22.28  22.88  22.96  22.36  22.04  22.52   0.00   0.00   0.00   0.00   0.00   0.00   0.00   0.00   0.00   0.00   0.00\n",
            "F10  19.72  19.52  21.60  21.24  21.84  22.80  21.28  21.36  21.00  21.56   0.00   0.00   0.00   0.00   0.00   0.00   0.00   0.00   0.00   0.00\n",
            "F11  18.40  18.08  19.60  19.60  19.84  20.56  19.40  19.96  19.80  20.76  15.72   0.00   0.00   0.00   0.00   0.00   0.00   0.00   0.00   0.00\n",
            "F12  18.36  17.04  18.88  19.64  18.72  19.80  19.24  20.68  18.64  19.92  15.64  16.52   0.00   0.00   0.00   0.00   0.00   0.00   0.00   0.00\n",
            "F13  15.60  15.32  16.36  16.76  15.92  16.56  17.12  16.88  16.04  15.72  14.16  13.44  15.04   0.00   0.00   0.00   0.00   0.00   0.00   0.00\n",
            "F14  17.20  17.36  16.88  17.88  17.32  18.12  18.28  18.72  17.32  16.68  14.96  14.52  15.92  16.84   0.00   0.00   0.00   0.00   0.00   0.00\n",
            "F15  19.96  20.36  18.72  19.76  20.12  19.64  20.56  20.32  20.00  18.92  17.12  15.12  16.68  18.36  19.08   0.00   0.00   0.00   0.00   0.00\n",
            "F16  18.28  18.52  16.68  17.12  17.12  16.64  18.20  17.68  17.52  16.16  14.56  14.60  16.40  17.04  16.88  16.40   0.00   0.00   0.00   0.00\n",
            "F17  18.28  17.32  17.64  17.00  16.56  15.92  17.76  18.44  18.00  17.00  14.76  15.04  17.00  16.96  16.04  16.96  16.28   0.00   0.00   0.00\n",
            "F18  17.92  17.20  17.72  16.60  16.68  16.40  17.40  18.52  17.72  17.28  14.72  15.92  16.56  17.64  17.28  17.04  15.44  16.96   0.00   0.00\n",
            "F19  20.12  19.24  19.84  18.40  18.44  18.20  18.80  19.84  18.64  19.28  15.40  16.72  17.60  17.56  18.84  18.88  15.72  17.84  19.24   0.00\n",
            "F20  19.52  19.56  19.00  19.00  18.12  17.72  17.92  19.48  18.24  19.04  15.48  17.20  16.76  18.08  19.24  18.48  15.44  17.80  18.60  17.12\n"
          ]
        }
      ]
    },
    {
      "cell_type": "code",
      "source": [],
      "metadata": {
        "id": "ZcOCr0_oGBus"
      },
      "execution_count": null,
      "outputs": []
    }
  ]
}